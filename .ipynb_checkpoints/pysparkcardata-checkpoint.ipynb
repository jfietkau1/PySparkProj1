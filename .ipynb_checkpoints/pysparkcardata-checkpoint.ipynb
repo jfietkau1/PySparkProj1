{
 "cells": [
  {
   "cell_type": "code",
   "execution_count": null,
   "id": "e9828287-7aee-4fd9-adb2-a58aad035cc0",
   "metadata": {},
   "outputs": [
    {
     "name": "stdout",
     "output_type": "stream",
     "text": [
      "+----------+------+----+-----------+---------+--------------+-------+-----+-----------+-----+\n",
      "|     Brand| Model|Year|Engine_Size|Fuel_Type|  Transmission|Mileage|Doors|Owner_Count|Price|\n",
      "+----------+------+----+-----------+---------+--------------+-------+-----+-----------+-----+\n",
      "|       Kia|   Rio|2020|        4.2|   Diesel|        Manual| 289944|    3|          5| 8501|\n",
      "| Chevrolet|Malibu|2012|        2.0|   Hybrid|     Automatic|   5356|    2|          3|12092|\n",
      "|  Mercedes|   GLA|2020|        4.2|   Diesel|     Automatic| 231440|    4|          2|11171|\n",
      "|      Audi|    Q5|2023|        2.0| Electric|        Manual| 160971|    2|          1|11780|\n",
      "|Volkswagen|  Golf|2003|        2.6|   Hybrid|Semi-Automatic| 286618|    3|          3| 2867|\n",
      "+----------+------+----+-----------+---------+--------------+-------+-----+-----------+-----+\n",
      "only showing top 5 rows\n",
      "\n",
      "Most Expensive Car: Row(Brand='Toyota', Model='Corolla', Price=18301)\n",
      "Least Expensive Car: Row(Brand='BMW', Model='X5', Price=2000)\n",
      "+----------+-----+\n",
      "|     Brand|Count|\n",
      "+----------+-----+\n",
      "|Volkswagen| 1020|\n",
      "|       Kia|  976|\n",
      "| Chevrolet| 1003|\n",
      "|   Hyundai|  995|\n",
      "|     Honda| 1009|\n",
      "|      Audi| 1038|\n",
      "|  Mercedes|  942|\n",
      "|       BMW|  999|\n",
      "|    Toyota|  970|\n",
      "|      Ford| 1048|\n",
      "+----------+-----+\n",
      "\n",
      "+-----------+-----------+-----------+\n",
      "|Avg_Mileage|Min_Mileage|Max_Mileage|\n",
      "+-----------+-----------+-----------+\n",
      "|149239.1118|         25|     299947|\n",
      "+-----------+-----------+-----------+\n",
      "\n"
     ]
    }
   ],
   "source": [
    "from pyspark.sql import SparkSession\n",
    "from pyspark.sql.functions import col, avg, min, max, count\n",
    "\n",
    "spark = SparkSession.builder.appName(\"CarDatasetAnalysis\").getOrCreate()\n",
    "\n",
    "df = spark.read.csv(\"car_price_dataset.csv\", header=True, inferSchema=True)\n",
    "\n",
    "df.show(5)\n",
    "\n",
    "\n",
    "\n",
    "# Find the most and least expensive cars\n",
    "most_expensive = df.orderBy(col(\"Price\").desc()).select(\"Brand\", \"Model\", \"Price\").first()\n",
    "least_expensive = df.orderBy(col(\"Price\").asc()).select(\"Brand\", \"Model\", \"Price\").first()\n",
    "\n",
    "print(f\"Most Expensive Car: {most_expensive}\")\n",
    "print(f\"Least Expensive Car: {least_expensive}\")\n",
    "\n",
    "# Count the number of cars per brand\n",
    "brand_counts = df.groupBy(\"Brand\").agg(count(\"*\").alias(\"Count\"))\n",
    "brand_counts.show()\n",
    "\n",
    "# Compute average, min, and max mileage\n",
    "mileage_stats = df.agg(\n",
    "    avg(\"Mileage\").alias(\"Avg_Mileage\"),\n",
    "    min(\"Mileage\").alias(\"Min_Mileage\"),\n",
    "    max(\"Mileage\").alias(\"Max_Mileage\")\n",
    ")\n",
    "\n",
    "mileage_stats.show()"
   ]
  },
  {
   "cell_type": "code",
   "execution_count": null,
   "metadata": {},
   "outputs": [
    {
     "name": "stdout",
     "output_type": "stream",
     "text": [
      "10000\n"
     ]
    }
   ],
   "source": [
    "print(df.count())"
   ]
  },
  {
   "cell_type": "code",
   "execution_count": null,
   "metadata": {},
   "outputs": [],
   "source": [
    "df2 = df.dropna()"
   ]
  },
  {
   "cell_type": "code",
   "execution_count": null,
   "metadata": {},
   "outputs": [
    {
     "name": "stdout",
     "output_type": "stream",
     "text": [
      "10000\n"
     ]
    }
   ],
   "source": [
    "print(df2.count())"
   ]
  },
  {
   "cell_type": "code",
   "execution_count": null,
   "metadata": {},
   "outputs": [
    {
     "name": "stdout",
     "output_type": "stream",
     "text": [
      "10000\n",
      "10000\n"
     ]
    }
   ],
   "source": [
    "print(df.count())  # Original count\n",
    "df = df.dropDuplicates()\n",
    "print(df.count()) \n",
    "\n"
   ]
  },
  {
   "cell_type": "code",
   "execution_count": null,
   "metadata": {},
   "outputs": [
    {
     "name": "stdout",
     "output_type": "stream",
     "text": [
      "root\n",
      " |-- brand: string (nullable = true)\n",
      " |-- model: string (nullable = true)\n",
      " |-- year: integer (nullable = true)\n",
      " |-- engine_size: double (nullable = true)\n",
      " |-- fuel_type: string (nullable = true)\n",
      " |-- transmission: string (nullable = true)\n",
      " |-- mileage: integer (nullable = true)\n",
      " |-- doors: integer (nullable = true)\n",
      " |-- owner_count: integer (nullable = true)\n",
      " |-- price: integer (nullable = true)\n",
      "\n"
     ]
    }
   ],
   "source": [
    "df = df.toDF(*[col.lower().replace(\" \", \"_\") for col in df.columns])\n",
    "df.printSchema()\n",
    "\n"
   ]
  },
  {
   "cell_type": "code",
   "execution_count": null,
   "metadata": {},
   "outputs": [],
   "source": [
    "# Remove cars with unrealistic prices (e.g., below $500 or above $200,000)\n",
    "df = df.filter((df.price > 500) & (df.price < 200000))\n",
    "\n",
    "# Remove cars with extreme mileage (e.g., above 500,000 miles)\n",
    "df = df.filter(df.mileage < 500000)\n",
    "\n"
   ]
  },
  {
   "cell_type": "code",
   "execution_count": null,
   "metadata": {},
   "outputs": [
    {
     "name": "stdout",
     "output_type": "stream",
     "text": [
      "10000\n"
     ]
    }
   ],
   "source": [
    "print(df.count())"
   ]
  },
  {
   "cell_type": "code",
   "execution_count": null,
   "metadata": {},
   "outputs": [
    {
     "name": "stdout",
     "output_type": "stream",
     "text": [
      "+-------+----------+--------+-----------------+------------------+---------+--------------+-----------------+------------------+------------------+-----------------+\n",
      "|summary|     brand|   model|             year|       engine_size|fuel_type|  transmission|          mileage|             doors|       owner_count|            price|\n",
      "+-------+----------+--------+-----------------+------------------+---------+--------------+-----------------+------------------+------------------+-----------------+\n",
      "|  count|     10000|   10000|            10000|             10000|    10000|         10000|            10000|             10000|             10000|            10000|\n",
      "|   mean|      NULL|    NULL|        2011.5437|3.0005599999999926|     NULL|          NULL|      149239.1118|            3.4971|            2.9911|        8852.9644|\n",
      "| stddev|      NULL|    NULL|6.897698756455953|1.1493240539456653|     NULL|          NULL|86322.34895733817|1.1100967622158655|1.4226816904421182|3112.596810289274|\n",
      "|    min|      Audi|3 Series|             2000|               1.0|   Diesel|     Automatic|               25|                 2|                 1|             2000|\n",
      "|    max|Volkswagen|      X5|             2023|               5.0|   Petrol|Semi-Automatic|           299947|                 5|                 5|            18301|\n",
      "+-------+----------+--------+-----------------+------------------+---------+--------------+-----------------+------------------+------------------+-----------------+\n",
      "\n",
      "root\n",
      " |-- brand: string (nullable = true)\n",
      " |-- model: string (nullable = true)\n",
      " |-- year: integer (nullable = true)\n",
      " |-- engine_size: double (nullable = true)\n",
      " |-- fuel_type: string (nullable = true)\n",
      " |-- transmission: string (nullable = true)\n",
      " |-- mileage: integer (nullable = true)\n",
      " |-- doors: integer (nullable = true)\n",
      " |-- owner_count: integer (nullable = true)\n",
      " |-- price: integer (nullable = true)\n",
      "\n",
      "+---------+--------+----+-----------+---------+--------------+-------+-----+-----------+-----+\n",
      "|    brand|   model|year|engine_size|fuel_type|  transmission|mileage|doors|owner_count|price|\n",
      "+---------+--------+----+-----------+---------+--------------+-------+-----+-----------+-----+\n",
      "|Chevrolet|  Impala|2013|        4.8|   Petrol|        Manual| 206381|    4|          4| 8672|\n",
      "|      Kia|Sportage|2000|        2.8| Electric|Semi-Automatic| 264697|    2|          5| 3606|\n",
      "|   Toyota|   Camry|2023|        1.5|   Diesel|        Manual| 117049|    2|          5|10159|\n",
      "|     Ford|Explorer|2006|        1.6|   Hybrid|Semi-Automatic| 235768|    5|          2| 3784|\n",
      "|     Audi|      A3|2005|        2.3| Electric|        Manual| 112828|    3|          2| 7643|\n",
      "+---------+--------+----+-----------+---------+--------------+-------+-----+-----------+-----+\n",
      "only showing top 5 rows\n",
      "\n"
     ]
    }
   ],
   "source": [
    "df.describe().show()  # Summary statistics\n",
    "df.printSchema()      # Check column types\n",
    "df.show(5) \n",
    "\n"
   ]
  },
  {
   "cell_type": "code",
   "execution_count": null,
   "metadata": {},
   "outputs": [
    {
     "name": "stdout",
     "output_type": "stream",
     "text": [
      "10000\n"
     ]
    }
   ],
   "source": [
    "df = df.filter(\n",
    "    (col(\"brand\") != \"NULL\") |\n",
    "    (col(\"model\") != \"NULL\") |\n",
    "    (col(\"fuel_type\") != \"NULL\") |\n",
    "    (col(\"transmission\") != \"NULL\")\n",
    ")\n",
    "print(df.count())\n",
    "\n"
   ]
  }
 ],
 "metadata": {
  "language_info": {
   "codemirror_mode": {
    "name": "ipython",
    "version": 3
   },
   "file_extension": ".py",
   "mimetype": "text/x-python",
   "name": "python",
   "nbconvert_exporter": "python",
   "pygments_lexer": "ipython3",
   "version": 3
  }
 },
 "nbformat": 4,
 "nbformat_minor": 2
}
